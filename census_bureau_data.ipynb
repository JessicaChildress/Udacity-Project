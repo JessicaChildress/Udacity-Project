{
 "cells": [
  {
   "cell_type": "markdown",
   "id": "8e20da2d",
   "metadata": {},
   "source": [
    "# Census Bureau: Business Formation Statistics Weekly Data at the State Level"
   ]
  },
  {
   "cell_type": "code",
   "execution_count": 54,
   "id": "b3f0fa58",
   "metadata": {},
   "outputs": [],
   "source": [
    "import pandas as pd\n",
    "import numpy as np\n",
    "import sklearn\n",
    "import matplotlib.pyplot as plt\n",
    "import seaborn as sns"
   ]
  },
  {
   "cell_type": "code",
   "execution_count": 2,
   "id": "7e547628",
   "metadata": {},
   "outputs": [],
   "source": [
    "# load the data\n",
    "census_df = pd.read_csv('bfs_state_apps_weekly_nsa.csv')"
   ]
  },
  {
   "cell_type": "markdown",
   "id": "81b061fb",
   "metadata": {},
   "source": [
    "## 1. Exploratory Data Analysis"
   ]
  },
  {
   "cell_type": "markdown",
   "id": "3f5a0644",
   "metadata": {},
   "source": [
    "How many rows are there? How many columns?"
   ]
  },
  {
   "cell_type": "code",
   "execution_count": 9,
   "id": "b55adb81",
   "metadata": {},
   "outputs": [
    {
     "name": "stdout",
     "output_type": "stream",
     "text": [
      "There are 51153 rows in the dataset\n",
      "The columns in the dataset are: \n",
      "\t* Year\n",
      "\t* Week\n",
      "\t* State\n",
      "\t* BA_NSA\n",
      "\t* HBA_NSA\n",
      "\t* WBA_NSA\n",
      "\t* CBA_NSA\n",
      "\t* YY_BA_NSA\n",
      "\t* YY_HBA_NSA\n",
      "\t* YY_WBA_NSA\n",
      "\t* YY_CBA_NSA\n"
     ]
    }
   ],
   "source": [
    "print(f\"There are {len(census_df)} rows in the dataset\")\n",
    "print(f\"The columns in the dataset are: \")\n",
    "for col in census_df.columns:\n",
    "    print('\\t*', col)"
   ]
  },
  {
   "cell_type": "markdown",
   "id": "57d58b38",
   "metadata": {},
   "source": [
    "Use the [data dictionary](https://www.census.gov/econ/bfs/pdf/bfs_weekly_data_dictionary.pdf) to understand what information each column contains:\n",
    "\n",
    "* Year: Four digit year\n",
    "* Week: Week of the year based on IRS processing. Leap years have 53 weeks\n",
    "* State: two-letter state abbreviations, including the District of Columbia\n",
    "* BA_NSA: Not seasonally adjusted business application\n",
    "* HBA_BSA: Not seasonally adjusted high-propensity business application\n",
    "* WBA_NSA: Not seasonally adjusted business applications with planned wage\n",
    "* CBA_NSA: Not seasonally adjusted business applications from corporations\n",
    "* YY_BA_NSA: Calculated year-to-year percentage changes for same week a year ago for the business application series. No values exist for 2006 or the 53rd week of leap years.\n",
    "* YY_HBA_NSA: Calculated year-to-year percentage changes for same week a year ago for the high-propensity business application series. No values exist for 2006 or the 53rd week of leap years.\n",
    "* YY_WBA_NSA: Calculated year-to-year percentage changes for same week a year ago for the business applications with planned wages series. No values exist for 2006 or the 53rd week of leap years.\n",
    "* YY_CBA_NSA: Calculated year-to-year percentage changes for same week a year ago for the business applications from corporations series. No values exist for 2006 or the 53rd week of leap years."
   ]
  },
  {
   "cell_type": "code",
   "execution_count": 11,
   "id": "227878b9",
   "metadata": {},
   "outputs": [
    {
     "name": "stdout",
     "output_type": "stream",
     "text": [
      "<class 'pandas.core.frame.DataFrame'>\n",
      "RangeIndex: 51153 entries, 0 to 51152\n",
      "Data columns (total 11 columns):\n",
      " #   Column      Non-Null Count  Dtype  \n",
      "---  ------      --------------  -----  \n",
      " 0   Year        51153 non-null  int64  \n",
      " 1   Week        51153 non-null  int64  \n",
      " 2   State       51153 non-null  object \n",
      " 3   BA_NSA      51153 non-null  int64  \n",
      " 4   HBA_NSA     51153 non-null  int64  \n",
      " 5   WBA_NSA     51153 non-null  int64  \n",
      " 6   CBA_NSA     51153 non-null  int64  \n",
      " 7   YY_BA_NSA   48399 non-null  float64\n",
      " 8   YY_HBA_NSA  48399 non-null  float64\n",
      " 9   YY_WBA_NSA  48399 non-null  float64\n",
      " 10  YY_CBA_NSA  48399 non-null  float64\n",
      "dtypes: float64(4), int64(6), object(1)\n",
      "memory usage: 4.3+ MB\n"
     ]
    }
   ],
   "source": [
    "# Now let's look at the quality of the data\n",
    "census_df.info()"
   ]
  },
  {
   "cell_type": "code",
   "execution_count": 13,
   "id": "c5cacd1a",
   "metadata": {},
   "outputs": [
    {
     "data": {
      "text/html": [
       "<div>\n",
       "<style scoped>\n",
       "    .dataframe tbody tr th:only-of-type {\n",
       "        vertical-align: middle;\n",
       "    }\n",
       "\n",
       "    .dataframe tbody tr th {\n",
       "        vertical-align: top;\n",
       "    }\n",
       "\n",
       "    .dataframe thead th {\n",
       "        text-align: right;\n",
       "    }\n",
       "</style>\n",
       "<table border=\"1\" class=\"dataframe\">\n",
       "  <thead>\n",
       "    <tr style=\"text-align: right;\">\n",
       "      <th></th>\n",
       "      <th>Year</th>\n",
       "      <th>Week</th>\n",
       "      <th>BA_NSA</th>\n",
       "      <th>HBA_NSA</th>\n",
       "      <th>WBA_NSA</th>\n",
       "      <th>CBA_NSA</th>\n",
       "      <th>YY_BA_NSA</th>\n",
       "      <th>YY_HBA_NSA</th>\n",
       "      <th>YY_WBA_NSA</th>\n",
       "      <th>YY_CBA_NSA</th>\n",
       "    </tr>\n",
       "  </thead>\n",
       "  <tbody>\n",
       "    <tr>\n",
       "      <th>count</th>\n",
       "      <td>51153.000000</td>\n",
       "      <td>51153.000000</td>\n",
       "      <td>51153.000000</td>\n",
       "      <td>51153.000000</td>\n",
       "      <td>51153.000000</td>\n",
       "      <td>51153.000000</td>\n",
       "      <td>48399.000000</td>\n",
       "      <td>48399.00</td>\n",
       "      <td>48399.00</td>\n",
       "      <td>48399.00</td>\n",
       "    </tr>\n",
       "    <tr>\n",
       "      <th>mean</th>\n",
       "      <td>2015.121635</td>\n",
       "      <td>26.300100</td>\n",
       "      <td>1293.205873</td>\n",
       "      <td>515.571325</td>\n",
       "      <td>218.898989</td>\n",
       "      <td>231.573515</td>\n",
       "      <td>7.064424</td>\n",
       "      <td>inf</td>\n",
       "      <td>inf</td>\n",
       "      <td>inf</td>\n",
       "    </tr>\n",
       "    <tr>\n",
       "      <th>std</th>\n",
       "      <td>5.557258</td>\n",
       "      <td>15.111455</td>\n",
       "      <td>1762.593845</td>\n",
       "      <td>737.978938</td>\n",
       "      <td>279.582850</td>\n",
       "      <td>442.654363</td>\n",
       "      <td>38.641677</td>\n",
       "      <td>NaN</td>\n",
       "      <td>NaN</td>\n",
       "      <td>NaN</td>\n",
       "    </tr>\n",
       "    <tr>\n",
       "      <th>min</th>\n",
       "      <td>2006.000000</td>\n",
       "      <td>1.000000</td>\n",
       "      <td>10.000000</td>\n",
       "      <td>0.000000</td>\n",
       "      <td>0.000000</td>\n",
       "      <td>0.000000</td>\n",
       "      <td>-93.130000</td>\n",
       "      <td>-100.00</td>\n",
       "      <td>-100.00</td>\n",
       "      <td>-100.00</td>\n",
       "    </tr>\n",
       "    <tr>\n",
       "      <th>25%</th>\n",
       "      <td>2010.000000</td>\n",
       "      <td>13.000000</td>\n",
       "      <td>290.000000</td>\n",
       "      <td>110.000000</td>\n",
       "      <td>60.000000</td>\n",
       "      <td>40.000000</td>\n",
       "      <td>-7.140000</td>\n",
       "      <td>-11.11</td>\n",
       "      <td>-15.79</td>\n",
       "      <td>-16.67</td>\n",
       "    </tr>\n",
       "    <tr>\n",
       "      <th>50%</th>\n",
       "      <td>2015.000000</td>\n",
       "      <td>26.000000</td>\n",
       "      <td>750.000000</td>\n",
       "      <td>280.000000</td>\n",
       "      <td>130.000000</td>\n",
       "      <td>80.000000</td>\n",
       "      <td>2.500000</td>\n",
       "      <td>0.00</td>\n",
       "      <td>0.00</td>\n",
       "      <td>0.00</td>\n",
       "    </tr>\n",
       "    <tr>\n",
       "      <th>75%</th>\n",
       "      <td>2020.000000</td>\n",
       "      <td>39.000000</td>\n",
       "      <td>1460.000000</td>\n",
       "      <td>550.000000</td>\n",
       "      <td>250.000000</td>\n",
       "      <td>200.000000</td>\n",
       "      <td>13.640000</td>\n",
       "      <td>12.50</td>\n",
       "      <td>10.71</td>\n",
       "      <td>11.11</td>\n",
       "    </tr>\n",
       "    <tr>\n",
       "      <th>max</th>\n",
       "      <td>2025.000000</td>\n",
       "      <td>53.000000</td>\n",
       "      <td>19040.000000</td>\n",
       "      <td>6630.000000</td>\n",
       "      <td>3480.000000</td>\n",
       "      <td>4110.000000</td>\n",
       "      <td>1200.000000</td>\n",
       "      <td>inf</td>\n",
       "      <td>inf</td>\n",
       "      <td>inf</td>\n",
       "    </tr>\n",
       "  </tbody>\n",
       "</table>\n",
       "</div>"
      ],
      "text/plain": [
       "               Year          Week        BA_NSA       HBA_NSA       WBA_NSA  \\\n",
       "count  51153.000000  51153.000000  51153.000000  51153.000000  51153.000000   \n",
       "mean    2015.121635     26.300100   1293.205873    515.571325    218.898989   \n",
       "std        5.557258     15.111455   1762.593845    737.978938    279.582850   \n",
       "min     2006.000000      1.000000     10.000000      0.000000      0.000000   \n",
       "25%     2010.000000     13.000000    290.000000    110.000000     60.000000   \n",
       "50%     2015.000000     26.000000    750.000000    280.000000    130.000000   \n",
       "75%     2020.000000     39.000000   1460.000000    550.000000    250.000000   \n",
       "max     2025.000000     53.000000  19040.000000   6630.000000   3480.000000   \n",
       "\n",
       "            CBA_NSA     YY_BA_NSA  YY_HBA_NSA  YY_WBA_NSA  YY_CBA_NSA  \n",
       "count  51153.000000  48399.000000    48399.00    48399.00    48399.00  \n",
       "mean     231.573515      7.064424         inf         inf         inf  \n",
       "std      442.654363     38.641677         NaN         NaN         NaN  \n",
       "min        0.000000    -93.130000     -100.00     -100.00     -100.00  \n",
       "25%       40.000000     -7.140000      -11.11      -15.79      -16.67  \n",
       "50%       80.000000      2.500000        0.00        0.00        0.00  \n",
       "75%      200.000000     13.640000       12.50       10.71       11.11  \n",
       "max     4110.000000   1200.000000         inf         inf         inf  "
      ]
     },
     "execution_count": 13,
     "metadata": {},
     "output_type": "execute_result"
    }
   ],
   "source": [
    "# Now let's look at the quality of the data\n",
    "census_df.describe()"
   ]
  },
  {
   "cell_type": "markdown",
   "id": "86bed5c1",
   "metadata": {},
   "source": [
    "* We can use the Min and Mix rows to see that this data ranges from 2006 all the way to 2025, which is just over 18 years' worth of data! With 52 weeks in a year, and 51 states being recorded, we have a good amount of variety here to be able to train a model! \n",
    "\n",
    "* It looks like there are some null values in our code causing some division by zero values in the descriptive statistics. The Year-to-Year columns display both 'inf' and 'NaN' values. Let's see if we can find out more about when these are occurring in the data. "
   ]
  },
  {
   "cell_type": "code",
   "execution_count": 32,
   "id": "d205913e",
   "metadata": {},
   "outputs": [
    {
     "data": {
      "text/plain": [
       "Year             0\n",
       "Week             0\n",
       "State            0\n",
       "BA_NSA           0\n",
       "HBA_NSA          0\n",
       "WBA_NSA          0\n",
       "CBA_NSA          0\n",
       "YY_BA_NSA     2754\n",
       "YY_HBA_NSA    2754\n",
       "YY_WBA_NSA    2754\n",
       "YY_CBA_NSA    2754\n",
       "dtype: int64"
      ]
     },
     "execution_count": 32,
     "metadata": {},
     "output_type": "execute_result"
    }
   ],
   "source": [
    "census_df.isnull().sum()"
   ]
  },
  {
   "cell_type": "markdown",
   "id": "a63282e9",
   "metadata": {},
   "source": [
    "* It makes sense that there are missing values in these year over year calculations because we were told in the data dictionary that the year 2006, and the 53rd week of each leap year do not have corresponding values. How many missing values remain in the data if we exclude 2006? "
   ]
  },
  {
   "cell_type": "code",
   "execution_count": 33,
   "id": "1632f63d",
   "metadata": {},
   "outputs": [
    {
     "data": {
      "text/plain": [
       "Year            0\n",
       "Week            0\n",
       "State           0\n",
       "BA_NSA          0\n",
       "HBA_NSA         0\n",
       "WBA_NSA         0\n",
       "CBA_NSA         0\n",
       "YY_BA_NSA     102\n",
       "YY_HBA_NSA    102\n",
       "YY_WBA_NSA    102\n",
       "YY_CBA_NSA    102\n",
       "dtype: int64"
      ]
     },
     "execution_count": 33,
     "metadata": {},
     "output_type": "execute_result"
    }
   ],
   "source": [
    "census_df[census_df['Year'] > 2006].isnull().sum()"
   ]
  },
  {
   "cell_type": "markdown",
   "id": "9e959285",
   "metadata": {},
   "source": [
    "Just by excluding the year 2006, we go from two thousand missing values down to 102. This is very promising. Seeing as there are 51 states, and 102 / 51 = 2, there are likely two leap years remaining in the data for which the 53rd weeks have missing values. While leap years add a single day to the calendar every four years, adding an entire extra week to the data will likely skew the results rather than provide an additional layer of complexity. \n",
    "\n",
    "#### Remianing cleaning steps:\n",
    "* remove the 53rd weeks from the dataset\n",
    "* remove the data from 2025 since it is still a mostly incomplete year in the dataset"
   ]
  },
  {
   "cell_type": "code",
   "execution_count": 71,
   "id": "4c90d8d8",
   "metadata": {},
   "outputs": [
    {
     "data": {
      "text/plain": [
       "Year          0\n",
       "Week          0\n",
       "State         0\n",
       "BA_NSA        0\n",
       "HBA_NSA       0\n",
       "WBA_NSA       0\n",
       "CBA_NSA       0\n",
       "YY_BA_NSA     0\n",
       "YY_HBA_NSA    0\n",
       "YY_WBA_NSA    0\n",
       "YY_CBA_NSA    0\n",
       "dtype: int64"
      ]
     },
     "execution_count": 71,
     "metadata": {},
     "output_type": "execute_result"
    }
   ],
   "source": [
    "census_df_clnd = census_df.loc[(census_df['Year'] > 2006) & (census_df['Year'] < 2025) & (census_df['Week'] != 53)]\n",
    "census_df_clnd.isnull().sum()"
   ]
  },
  {
   "cell_type": "markdown",
   "id": "19e83b56",
   "metadata": {},
   "source": [
    "* We have successfully removed the null values from the data in a meaningful way. Now we can look more closely at the characteristics of the remaining features to determine if there are any correlations between variables and which column we want to have a machine learning model predict. "
   ]
  },
  {
   "cell_type": "markdown",
   "id": "8a0b198c",
   "metadata": {},
   "source": [
    "* Let's check the descriptive statistics again to ensure there aren't any other funky things in our dataset now that the missing values have been taken care of..."
   ]
  },
  {
   "cell_type": "code",
   "execution_count": 72,
   "id": "76d679a9",
   "metadata": {},
   "outputs": [
    {
     "data": {
      "text/html": [
       "<div>\n",
       "<style scoped>\n",
       "    .dataframe tbody tr th:only-of-type {\n",
       "        vertical-align: middle;\n",
       "    }\n",
       "\n",
       "    .dataframe tbody tr th {\n",
       "        vertical-align: top;\n",
       "    }\n",
       "\n",
       "    .dataframe thead th {\n",
       "        text-align: right;\n",
       "    }\n",
       "</style>\n",
       "<table border=\"1\" class=\"dataframe\">\n",
       "  <thead>\n",
       "    <tr style=\"text-align: right;\">\n",
       "      <th></th>\n",
       "      <th>Year</th>\n",
       "      <th>Week</th>\n",
       "      <th>BA_NSA</th>\n",
       "      <th>HBA_NSA</th>\n",
       "      <th>WBA_NSA</th>\n",
       "      <th>CBA_NSA</th>\n",
       "      <th>YY_BA_NSA</th>\n",
       "      <th>YY_HBA_NSA</th>\n",
       "      <th>YY_WBA_NSA</th>\n",
       "      <th>YY_CBA_NSA</th>\n",
       "    </tr>\n",
       "  </thead>\n",
       "  <tbody>\n",
       "    <tr>\n",
       "      <th>count</th>\n",
       "      <td>47736.000000</td>\n",
       "      <td>47736.000000</td>\n",
       "      <td>47736.000000</td>\n",
       "      <td>47736.000000</td>\n",
       "      <td>47736.000000</td>\n",
       "      <td>47736.000000</td>\n",
       "      <td>47736.000000</td>\n",
       "      <td>47736.000</td>\n",
       "      <td>47736.00</td>\n",
       "      <td>47736.00</td>\n",
       "    </tr>\n",
       "    <tr>\n",
       "      <th>mean</th>\n",
       "      <td>2015.500000</td>\n",
       "      <td>26.500000</td>\n",
       "      <td>1299.531171</td>\n",
       "      <td>509.688705</td>\n",
       "      <td>211.671694</td>\n",
       "      <td>225.462335</td>\n",
       "      <td>7.223173</td>\n",
       "      <td>inf</td>\n",
       "      <td>inf</td>\n",
       "      <td>inf</td>\n",
       "    </tr>\n",
       "    <tr>\n",
       "      <th>std</th>\n",
       "      <td>5.188182</td>\n",
       "      <td>15.008488</td>\n",
       "      <td>1766.208821</td>\n",
       "      <td>730.199623</td>\n",
       "      <td>266.180310</td>\n",
       "      <td>433.026642</td>\n",
       "      <td>38.703593</td>\n",
       "      <td>NaN</td>\n",
       "      <td>NaN</td>\n",
       "      <td>NaN</td>\n",
       "    </tr>\n",
       "    <tr>\n",
       "      <th>min</th>\n",
       "      <td>2007.000000</td>\n",
       "      <td>1.000000</td>\n",
       "      <td>10.000000</td>\n",
       "      <td>0.000000</td>\n",
       "      <td>0.000000</td>\n",
       "      <td>0.000000</td>\n",
       "      <td>-92.310000</td>\n",
       "      <td>-100.000</td>\n",
       "      <td>-100.00</td>\n",
       "      <td>-100.00</td>\n",
       "    </tr>\n",
       "    <tr>\n",
       "      <th>25%</th>\n",
       "      <td>2011.000000</td>\n",
       "      <td>13.750000</td>\n",
       "      <td>300.000000</td>\n",
       "      <td>110.000000</td>\n",
       "      <td>60.000000</td>\n",
       "      <td>40.000000</td>\n",
       "      <td>-7.040000</td>\n",
       "      <td>-11.110</td>\n",
       "      <td>-15.79</td>\n",
       "      <td>-16.67</td>\n",
       "    </tr>\n",
       "    <tr>\n",
       "      <th>50%</th>\n",
       "      <td>2015.500000</td>\n",
       "      <td>26.500000</td>\n",
       "      <td>760.000000</td>\n",
       "      <td>280.000000</td>\n",
       "      <td>130.000000</td>\n",
       "      <td>80.000000</td>\n",
       "      <td>2.580000</td>\n",
       "      <td>0.000</td>\n",
       "      <td>0.00</td>\n",
       "      <td>0.00</td>\n",
       "    </tr>\n",
       "    <tr>\n",
       "      <th>75%</th>\n",
       "      <td>2020.000000</td>\n",
       "      <td>39.250000</td>\n",
       "      <td>1470.000000</td>\n",
       "      <td>540.000000</td>\n",
       "      <td>250.000000</td>\n",
       "      <td>190.000000</td>\n",
       "      <td>13.680000</td>\n",
       "      <td>12.455</td>\n",
       "      <td>10.71</td>\n",
       "      <td>10.53</td>\n",
       "    </tr>\n",
       "    <tr>\n",
       "      <th>max</th>\n",
       "      <td>2024.000000</td>\n",
       "      <td>52.000000</td>\n",
       "      <td>19040.000000</td>\n",
       "      <td>6630.000000</td>\n",
       "      <td>3480.000000</td>\n",
       "      <td>4050.000000</td>\n",
       "      <td>1200.000000</td>\n",
       "      <td>inf</td>\n",
       "      <td>inf</td>\n",
       "      <td>inf</td>\n",
       "    </tr>\n",
       "  </tbody>\n",
       "</table>\n",
       "</div>"
      ],
      "text/plain": [
       "               Year          Week        BA_NSA       HBA_NSA       WBA_NSA  \\\n",
       "count  47736.000000  47736.000000  47736.000000  47736.000000  47736.000000   \n",
       "mean    2015.500000     26.500000   1299.531171    509.688705    211.671694   \n",
       "std        5.188182     15.008488   1766.208821    730.199623    266.180310   \n",
       "min     2007.000000      1.000000     10.000000      0.000000      0.000000   \n",
       "25%     2011.000000     13.750000    300.000000    110.000000     60.000000   \n",
       "50%     2015.500000     26.500000    760.000000    280.000000    130.000000   \n",
       "75%     2020.000000     39.250000   1470.000000    540.000000    250.000000   \n",
       "max     2024.000000     52.000000  19040.000000   6630.000000   3480.000000   \n",
       "\n",
       "            CBA_NSA     YY_BA_NSA  YY_HBA_NSA  YY_WBA_NSA  YY_CBA_NSA  \n",
       "count  47736.000000  47736.000000   47736.000    47736.00    47736.00  \n",
       "mean     225.462335      7.223173         inf         inf         inf  \n",
       "std      433.026642     38.703593         NaN         NaN         NaN  \n",
       "min        0.000000    -92.310000    -100.000     -100.00     -100.00  \n",
       "25%       40.000000     -7.040000     -11.110      -15.79      -16.67  \n",
       "50%       80.000000      2.580000       0.000        0.00        0.00  \n",
       "75%      190.000000     13.680000      12.455       10.71       10.53  \n",
       "max     4050.000000   1200.000000         inf         inf         inf  "
      ]
     },
     "execution_count": 72,
     "metadata": {},
     "output_type": "execute_result"
    }
   ],
   "source": [
    "census_df_clnd.describe()"
   ]
  },
  {
   "cell_type": "markdown",
   "id": "53d21209",
   "metadata": {},
   "source": [
    "Uh oh! It looks like we are still getting 'inf' and 'NaN' values in some of our Year over Year columns. This actually helps make the decision of which `YY_` column to choose for our target variable. Since the `YY_BA_NSA` is quite clean, let's plan to use that for the machine learning model. That means we can actualy remove the other columns since they are referring to data series that we will not be using. "
   ]
  },
  {
   "cell_type": "code",
   "execution_count": 73,
   "id": "c427ec0f",
   "metadata": {},
   "outputs": [],
   "source": [
    "census_df_clnd = census_df_clnd.drop(labels=['YY_HBA_NSA', 'HBA_NSA', 'YY_WBA_NSA', 'WBA_NSA', 'YY_CBA_NSA', 'CBA_NSA'], axis=1, inplace=False)"
   ]
  },
  {
   "cell_type": "code",
   "execution_count": 74,
   "id": "a523f9a0",
   "metadata": {},
   "outputs": [
    {
     "data": {
      "image/png": "[encoded data removed]",
      "text/plain": [
       "<Figure size 1400x800 with 4 Axes>"
      ]
     },
     "metadata": {},
     "output_type": "display_data"
    }
   ],
   "source": [
    "# Plot a histogram of the data to see the distribution of each column\n",
    "census_df_clnd.hist(bins=18, figsize=(14,8))\n",
    "plt.show()"
   ]
  },
  {
   "cell_type": "markdown",
   "id": "dbb691aa",
   "metadata": {},
   "source": [
    "#### Histogram Takeaways:\n",
    "* There is a uniform amount of data present for each Year in the dataset. \n",
    "* All the weeks have representation, though the amount of records per value varies by nearly 1,000.  \n",
    "    * This looks like it could potentially form a good segmentation rule or set of rules in a decision tree.\n",
    "* As the number of business applications increases, the quanitity of records with that value decreases. In other words, there seems to be a inversely proportional relationship between data values and their frequency. \n",
    "* the `YY_BA_NSA` hovers very close to zero. I am curious what this particular column looks like with a box and whisker plot to better see the spread. Right now there is some concern that training a model on this variable with create bias towards always guessing a value around 0. We need to be very carefulto prevent an unbalanced prediction model. "
   ]
  },
  {
   "cell_type": "code",
   "execution_count": 75,
   "id": "d8d5d0ab",
   "metadata": {},
   "outputs": [
    {
     "data": {
      "image/png": "[encoded data removed]",
      "text/plain": [
       "<Figure size 640x480 with 1 Axes>"
      ]
     },
     "metadata": {},
     "output_type": "display_data"
    }
   ],
   "source": [
    "# Plot a box and whisker plot of our target variable\n",
    "plt.boxplot(census_df_clnd['YY_BA_NSA'])\n",
    "plt.show()"
   ]
  },
  {
   "cell_type": "markdown",
   "id": "2f10dd61",
   "metadata": {},
   "source": [
    "This box and whisker plot shows a much greater spread of \"outliers\" that the histogram did not show. That means there is likely enough variance within the data to use this as our target variable, granted we are vigilant about the training and testing split(s) used to ensure that all possible values are considered by the model. "
   ]
  },
  {
   "cell_type": "markdown",
   "id": "7a719b2a",
   "metadata": {},
   "source": [
    "## 2. Model Data Preparation"
   ]
  },
  {
   "cell_type": "markdown",
   "id": "f68c2e25",
   "metadata": {},
   "source": [
    "Before we actually start exploring models, we want to prepare the data for being turned into training and testing sets. \n",
    "\n",
    "In addition to the data from the `bfs_state_apps_weekly_nsa.csv`, the Census Bureau also provided a date lookup table in the `date_table.csv` file both of which can be found [here](https://www.census.gov/econ/bfs/data/weekly.html). Let's join the start and end dates of each week to the dataframe so we can also include months and quarters in the data. \n"
   ]
  },
  {
   "cell_type": "code",
   "execution_count": 76,
   "id": "ac36352e",
   "metadata": {},
   "outputs": [],
   "source": [
    "# Load the date lookup table\n",
    "date_df = pd.read_csv('date_table.csv')"
   ]
  },
  {
   "cell_type": "code",
   "execution_count": 77,
   "id": "24a006b6",
   "metadata": {},
   "outputs": [],
   "source": [
    "full_census_data = pd.merge(census_df_clnd, date_df, on=['Year', 'Week'], how='left')"
   ]
  },
  {
   "cell_type": "markdown",
   "id": "f75eb589",
   "metadata": {},
   "source": [
    "Check out the data to make sure the join worked as expected"
   ]
  },
  {
   "cell_type": "code",
   "execution_count": 79,
   "id": "057d5e08",
   "metadata": {},
   "outputs": [
    {
     "data": {
      "text/html": [
       "<div>\n",
       "<style scoped>\n",
       "    .dataframe tbody tr th:only-of-type {\n",
       "        vertical-align: middle;\n",
       "    }\n",
       "\n",
       "    .dataframe tbody tr th {\n",
       "        vertical-align: top;\n",
       "    }\n",
       "\n",
       "    .dataframe thead th {\n",
       "        text-align: right;\n",
       "    }\n",
       "</style>\n",
       "<table border=\"1\" class=\"dataframe\">\n",
       "  <thead>\n",
       "    <tr style=\"text-align: right;\">\n",
       "      <th></th>\n",
       "      <th>Year</th>\n",
       "      <th>Week</th>\n",
       "      <th>State</th>\n",
       "      <th>BA_NSA</th>\n",
       "      <th>YY_BA_NSA</th>\n",
       "      <th>Start date</th>\n",
       "      <th>End date</th>\n",
       "    </tr>\n",
       "  </thead>\n",
       "  <tbody>\n",
       "    <tr>\n",
       "      <th>0</th>\n",
       "      <td>2007</td>\n",
       "      <td>1</td>\n",
       "      <td>AK</td>\n",
       "      <td>100</td>\n",
       "      <td>11.11</td>\n",
       "      <td>12/31/2006</td>\n",
       "      <td>1/6/2007</td>\n",
       "    </tr>\n",
       "    <tr>\n",
       "      <th>1</th>\n",
       "      <td>2007</td>\n",
       "      <td>2</td>\n",
       "      <td>AK</td>\n",
       "      <td>40</td>\n",
       "      <td>-55.56</td>\n",
       "      <td>1/7/2007</td>\n",
       "      <td>1/13/2007</td>\n",
       "    </tr>\n",
       "    <tr>\n",
       "      <th>2</th>\n",
       "      <td>2007</td>\n",
       "      <td>3</td>\n",
       "      <td>AK</td>\n",
       "      <td>130</td>\n",
       "      <td>0.00</td>\n",
       "      <td>1/14/2007</td>\n",
       "      <td>1/20/2007</td>\n",
       "    </tr>\n",
       "    <tr>\n",
       "      <th>3</th>\n",
       "      <td>2007</td>\n",
       "      <td>4</td>\n",
       "      <td>AK</td>\n",
       "      <td>100</td>\n",
       "      <td>0.00</td>\n",
       "      <td>1/21/2007</td>\n",
       "      <td>1/27/2007</td>\n",
       "    </tr>\n",
       "    <tr>\n",
       "      <th>4</th>\n",
       "      <td>2007</td>\n",
       "      <td>5</td>\n",
       "      <td>AK</td>\n",
       "      <td>130</td>\n",
       "      <td>-13.33</td>\n",
       "      <td>1/28/2007</td>\n",
       "      <td>2/3/2007</td>\n",
       "    </tr>\n",
       "    <tr>\n",
       "      <th>5</th>\n",
       "      <td>2007</td>\n",
       "      <td>6</td>\n",
       "      <td>AK</td>\n",
       "      <td>120</td>\n",
       "      <td>33.33</td>\n",
       "      <td>2/4/2007</td>\n",
       "      <td>2/10/2007</td>\n",
       "    </tr>\n",
       "    <tr>\n",
       "      <th>6</th>\n",
       "      <td>2007</td>\n",
       "      <td>7</td>\n",
       "      <td>AK</td>\n",
       "      <td>120</td>\n",
       "      <td>-7.69</td>\n",
       "      <td>2/11/2007</td>\n",
       "      <td>2/17/2007</td>\n",
       "    </tr>\n",
       "    <tr>\n",
       "      <th>7</th>\n",
       "      <td>2007</td>\n",
       "      <td>8</td>\n",
       "      <td>AK</td>\n",
       "      <td>140</td>\n",
       "      <td>7.69</td>\n",
       "      <td>2/18/2007</td>\n",
       "      <td>2/24/2007</td>\n",
       "    </tr>\n",
       "    <tr>\n",
       "      <th>8</th>\n",
       "      <td>2007</td>\n",
       "      <td>9</td>\n",
       "      <td>AK</td>\n",
       "      <td>80</td>\n",
       "      <td>-27.27</td>\n",
       "      <td>2/25/2007</td>\n",
       "      <td>3/3/2007</td>\n",
       "    </tr>\n",
       "    <tr>\n",
       "      <th>9</th>\n",
       "      <td>2007</td>\n",
       "      <td>10</td>\n",
       "      <td>AK</td>\n",
       "      <td>100</td>\n",
       "      <td>-28.57</td>\n",
       "      <td>3/4/2007</td>\n",
       "      <td>3/10/2007</td>\n",
       "    </tr>\n",
       "  </tbody>\n",
       "</table>\n",
       "</div>"
      ],
      "text/plain": [
       "   Year  Week State  BA_NSA  YY_BA_NSA  Start date   End date\n",
       "0  2007     1    AK     100      11.11  12/31/2006   1/6/2007\n",
       "1  2007     2    AK      40     -55.56    1/7/2007  1/13/2007\n",
       "2  2007     3    AK     130       0.00   1/14/2007  1/20/2007\n",
       "3  2007     4    AK     100       0.00   1/21/2007  1/27/2007\n",
       "4  2007     5    AK     130     -13.33   1/28/2007   2/3/2007\n",
       "5  2007     6    AK     120      33.33    2/4/2007  2/10/2007\n",
       "6  2007     7    AK     120      -7.69   2/11/2007  2/17/2007\n",
       "7  2007     8    AK     140       7.69   2/18/2007  2/24/2007\n",
       "8  2007     9    AK      80     -27.27   2/25/2007   3/3/2007\n",
       "9  2007    10    AK     100     -28.57    3/4/2007  3/10/2007"
      ]
     },
     "execution_count": 79,
     "metadata": {},
     "output_type": "execute_result"
    }
   ],
   "source": [
    "full_census_data.head(10)"
   ]
  },
  {
   "cell_type": "markdown",
   "id": "a4d0173d",
   "metadata": {},
   "source": [
    "Now let's use the pandas "
   ]
  },
  {
   "cell_type": "code",
   "execution_count": null,
   "id": "07dd5612",
   "metadata": {},
   "outputs": [],
   "source": [
    "full_census_data['Start date'] = pd.to_datetime(full_census_data['Start date'])\n",
    "full_census_data['End date'] = pd.to_datetime(full_census_data['End date'])\n",
    "\n",
    "full_census_data['Month'] = full_census_data['Start date'].dt.month\n",
    "full_census_data['Quarter'] = full_census_data['Start date'].dt.quarter"
   ]
  },
  {
   "cell_type": "code",
   "execution_count": 86,
   "id": "80864093",
   "metadata": {},
   "outputs": [
    {
     "data": {
      "text/html": [
       "<div>\n",
       "<style scoped>\n",
       "    .dataframe tbody tr th:only-of-type {\n",
       "        vertical-align: middle;\n",
       "    }\n",
       "\n",
       "    .dataframe tbody tr th {\n",
       "        vertical-align: top;\n",
       "    }\n",
       "\n",
       "    .dataframe thead th {\n",
       "        text-align: right;\n",
       "    }\n",
       "</style>\n",
       "<table border=\"1\" class=\"dataframe\">\n",
       "  <thead>\n",
       "    <tr style=\"text-align: right;\">\n",
       "      <th></th>\n",
       "      <th>Year</th>\n",
       "      <th>Week</th>\n",
       "      <th>State</th>\n",
       "      <th>BA_NSA</th>\n",
       "      <th>YY_BA_NSA</th>\n",
       "      <th>Start date</th>\n",
       "      <th>End date</th>\n",
       "      <th>Month</th>\n",
       "      <th>Quarter</th>\n",
       "    </tr>\n",
       "  </thead>\n",
       "  <tbody>\n",
       "    <tr>\n",
       "      <th>0</th>\n",
       "      <td>2007</td>\n",
       "      <td>1</td>\n",
       "      <td>AK</td>\n",
       "      <td>100</td>\n",
       "      <td>11.11</td>\n",
       "      <td>2006-12-31</td>\n",
       "      <td>2007-01-06</td>\n",
       "      <td>12</td>\n",
       "      <td>4</td>\n",
       "    </tr>\n",
       "    <tr>\n",
       "      <th>1</th>\n",
       "      <td>2007</td>\n",
       "      <td>2</td>\n",
       "      <td>AK</td>\n",
       "      <td>40</td>\n",
       "      <td>-55.56</td>\n",
       "      <td>2007-01-07</td>\n",
       "      <td>2007-01-13</td>\n",
       "      <td>1</td>\n",
       "      <td>1</td>\n",
       "    </tr>\n",
       "    <tr>\n",
       "      <th>2</th>\n",
       "      <td>2007</td>\n",
       "      <td>3</td>\n",
       "      <td>AK</td>\n",
       "      <td>130</td>\n",
       "      <td>0.00</td>\n",
       "      <td>2007-01-14</td>\n",
       "      <td>2007-01-20</td>\n",
       "      <td>1</td>\n",
       "      <td>1</td>\n",
       "    </tr>\n",
       "    <tr>\n",
       "      <th>3</th>\n",
       "      <td>2007</td>\n",
       "      <td>4</td>\n",
       "      <td>AK</td>\n",
       "      <td>100</td>\n",
       "      <td>0.00</td>\n",
       "      <td>2007-01-21</td>\n",
       "      <td>2007-01-27</td>\n",
       "      <td>1</td>\n",
       "      <td>1</td>\n",
       "    </tr>\n",
       "    <tr>\n",
       "      <th>4</th>\n",
       "      <td>2007</td>\n",
       "      <td>5</td>\n",
       "      <td>AK</td>\n",
       "      <td>130</td>\n",
       "      <td>-13.33</td>\n",
       "      <td>2007-01-28</td>\n",
       "      <td>2007-02-03</td>\n",
       "      <td>1</td>\n",
       "      <td>1</td>\n",
       "    </tr>\n",
       "  </tbody>\n",
       "</table>\n",
       "</div>"
      ],
      "text/plain": [
       "   Year  Week State  BA_NSA  YY_BA_NSA Start date   End date  Month  Quarter\n",
       "0  2007     1    AK     100      11.11 2006-12-31 2007-01-06     12        4\n",
       "1  2007     2    AK      40     -55.56 2007-01-07 2007-01-13      1        1\n",
       "2  2007     3    AK     130       0.00 2007-01-14 2007-01-20      1        1\n",
       "3  2007     4    AK     100       0.00 2007-01-21 2007-01-27      1        1\n",
       "4  2007     5    AK     130     -13.33 2007-01-28 2007-02-03      1        1"
      ]
     },
     "execution_count": 86,
     "metadata": {},
     "output_type": "execute_result"
    }
   ],
   "source": [
    "full_census_data.head()"
   ]
  },
  {
   "cell_type": "markdown",
   "id": "78130c59",
   "metadata": {},
   "source": [
    "Now we have the following columns that can be used to train the model(s) to predict the target variable `YY_BA_NSA`:\n",
    "* `Year`\n",
    "* `Quarter`\n",
    "* `Month`\n",
    "* `Week`\n",
    "* `BA_NSA`"
   ]
  },
  {
   "cell_type": "markdown",
   "id": "a1547ba4",
   "metadata": {},
   "source": [
    "## 3. Create Train and Test Sets and Build Some Models"
   ]
  },
  {
   "cell_type": "markdown",
   "id": "6255fdcd",
   "metadata": {},
   "source": [
    "For this particular dataset, I believe the best train/test split method will be stratified k-fold cross validation since it maintains the same distribution of classes as the entire dataset. The hope is that the approach will ensure that the target values are more spread out across the entire range of the dataset. \n",
    "\n",
    "Another viable option is the Time Series Split, which consists of the next 'n' points in the data and avoids \"looking into the future\" while training the model. \n",
    "[source](https://www.kaggle.com/discussions/general/448072)"
   ]
  },
  {
   "cell_type": "markdown",
   "id": "f320d4c9",
   "metadata": {},
   "source": [
    "There are three different types of models that I would like to try with this data:\n",
    "1. Decision Tree\n",
    "2. Multi-linear Regression\n",
    "3. Ensemble method - random forest with and without the multi-linear regressor"
   ]
  },
  {
   "cell_type": "markdown",
   "id": "bec73418",
   "metadata": {},
   "source": []
  },
  {
   "cell_type": "code",
   "execution_count": null,
   "id": "a5da7350",
   "metadata": {},
   "outputs": [],
   "source": []
  }
 ],
 "metadata": {
  "kernelspec": {
   "display_name": "UdacityEnv",
   "language": "python",
   "name": "python3"
  },
  "language_info": {
   "codemirror_mode": {
    "name": "ipython",
    "version": 3
   },
   "file_extension": ".py",
   "mimetype": "text/x-python",
   "name": "python",
   "nbconvert_exporter": "python",
   "pygments_lexer": "ipython3",
   "version": "3.13.2"
  }
 },
 "nbformat": 4,
 "nbformat_minor": 5
}
